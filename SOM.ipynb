{
 "cells": [
  {
   "cell_type": "code",
   "execution_count": 2,
   "id": "c6c498de",
   "metadata": {},
   "outputs": [],
   "source": [
    "class SOM():\n",
    "    def winner(self,weights,sample):\n",
    "        D0 = 0\n",
    "        D1 = 0\n",
    "        for i in range(len(sample)):\n",
    "            D0 = D0 + (sample[i] - weights[0][i])**2\n",
    "            D1 = D1 + (sample[i] - weights[1][i])**2\n",
    "        return 0 if (D0<D1) else 1\n",
    "    \n",
    "    def update(self,weights,sample,J,alpha):\n",
    "        for i in range(len(sample)):\n",
    "            weights[J][i] = weights[J][i] + alpha * (sample[i] - weights[J][i])\n",
    "        return weights   \n",
    "    \n",
    "    "
   ]
  },
  {
   "cell_type": "code",
   "execution_count": 3,
   "id": "9a752bcf",
   "metadata": {},
   "outputs": [
    {
     "name": "stdout",
     "output_type": "stream",
     "text": [
      "Test sample belongs to class: 0\n",
      "Updated weights: [[0.003125, 0.009375, 0.6640625, 0.9984375], [0.996875, 0.334375, 0.0109375, 0.0046875]]\n"
     ]
    }
   ],
   "source": [
    "\n",
    "T = [[1,1,0,0],[0,0,0,1],[1,0,0,0],[0,0,1,1]]\n",
    "m,n = len(T),len(T[0])\n",
    "weights = [[0.2,0.6,0.5,0.9],[0.8,0.4,0.7,0.3]]\n",
    "epochs = 3\n",
    "alpha = 0.5\n",
    "ob = SOM()\n",
    "for epoch in range(epochs):\n",
    "    for i in range(len(T)):\n",
    "        sample = T[i]\n",
    "        J = ob.winner(weights,sample)\n",
    "        ob.update(weights,sample,J,alpha)\n",
    "\n",
    "s = [1,1,0,1]\n",
    "J = ob.winner(weights,sample)\n",
    "print(\"Test sample belongs to class:\",J)\n",
    "print(\"Updated weights:\",weights)"
   ]
  }
 ],
 "metadata": {
  "kernelspec": {
   "display_name": "Python 3 (ipykernel)",
   "language": "python",
   "name": "python3"
  },
  "language_info": {
   "codemirror_mode": {
    "name": "ipython",
    "version": 3
   },
   "file_extension": ".py",
   "mimetype": "text/x-python",
   "name": "python",
   "nbconvert_exporter": "python",
   "pygments_lexer": "ipython3",
   "version": "3.9.13"
  }
 },
 "nbformat": 4,
 "nbformat_minor": 5
}
