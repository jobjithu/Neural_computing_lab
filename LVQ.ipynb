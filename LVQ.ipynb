{
 "cells": [
  {
   "cell_type": "code",
   "execution_count": 1,
   "id": "4c7bc5be",
   "metadata": {},
   "outputs": [],
   "source": [
    "class LVQ():\n",
    "    def winner(self,weights,sample):\n",
    "        D0 = 0\n",
    "        D1 = 0\n",
    "        for i in range(len(sample)):\n",
    "            D0 = D0 + (sample[i] - weights[0][i])**2\n",
    "            D1 = D1 + (sample[i] - weights[1][i])**2\n",
    "        return 0 if (D0<D1) else 1\n",
    "    \n",
    "    def update(self,weights,sample,J,alpha,Y):\n",
    "        for i in range(len(sample)):\n",
    "            if J == Y:\n",
    "                weights[J][i] = weights[J][i] + alpha * (sample[i] - weights[J][i])\n",
    "            else:\n",
    "                weights[J][i] = weights[J][i] - alpha * (sample[i] - weights[J][i])\n",
    "        return weights   \n",
    "    \n",
    "    "
   ]
  },
  {
   "cell_type": "code",
   "execution_count": 4,
   "id": "2700697b",
   "metadata": {},
   "outputs": [
    {
     "name": "stdout",
     "output_type": "stream",
     "text": [
      " Test sample belongs to class: 0\n",
      "Updated_weights: [[0.9702989999999999, 0.0, 0.673289, 1.0], [1.0, 0.7290000000000001, 0.0, 0.0]]\n"
     ]
    }
   ],
   "source": [
    "\n",
    "T = [[1,0,1,1],[1,1,0,0],[0,0,0,1],[1,0,0,0],[0,0,1,1]]\n",
    "weights = []\n",
    "weights.append(T[0])\n",
    "weights.append(T[1])\n",
    "actual = [0,1,0,1,1]\n",
    "epochs = 3\n",
    "alpha = 0.1\n",
    "ob = LVQ()\n",
    "for epoch in range(epochs):\n",
    "    for i in range(3):\n",
    "        sample = T[i+2]\n",
    "        Y = actual[i+2]\n",
    "        J = ob.winner(weights,sample)\n",
    "        ob.update(weights,sample,J,alpha,Y)\n",
    "\n",
    "s = [1,1,0,1]\n",
    "Y = [0]\n",
    "J = ob.winner(weights,sample)\n",
    "print(\" Test sample belongs to class:\",J)\n",
    "print(\"Updated_weights:\",weights)"
   ]
  },
  {
   "cell_type": "code",
   "execution_count": null,
   "id": "deea898d",
   "metadata": {},
   "outputs": [],
   "source": []
  }
 ],
 "metadata": {
  "kernelspec": {
   "display_name": "Python 3 (ipykernel)",
   "language": "python",
   "name": "python3"
  },
  "language_info": {
   "codemirror_mode": {
    "name": "ipython",
    "version": 3
   },
   "file_extension": ".py",
   "mimetype": "text/x-python",
   "name": "python",
   "nbconvert_exporter": "python",
   "pygments_lexer": "ipython3",
   "version": "3.9.13"
  }
 },
 "nbformat": 4,
 "nbformat_minor": 5
}
